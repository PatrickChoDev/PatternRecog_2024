{
 "cells": [
  {
   "cell_type": "code",
   "execution_count": 1,
   "metadata": {},
   "outputs": [],
   "source": [
    "import pandas as pd\n",
    "import numpy as np\n",
    "import matplotlib.pyplot as plt"
   ]
  },
  {
   "cell_type": "code",
   "execution_count": 2,
   "metadata": {},
   "outputs": [],
   "source": [
    "train_url = \"http://s3.amazonaws.com/assets.datacamp.com/course/Kaggle/train.csv\"\n",
    "train_df = pd.read_csv(train_url) #training set\n",
    "test_url = \"http://s3.amazonaws.com/assets.datacamp.com/course/Kaggle/test.csv\"\n",
    "test_df = pd.read_csv(test_url) #test set"
   ]
  },
  {
   "cell_type": "code",
   "execution_count": 3,
   "metadata": {},
   "outputs": [
    {
     "data": {
      "text/plain": [
       "PassengerId      0\n",
       "Survived         0\n",
       "Pclass           0\n",
       "Name             0\n",
       "Sex              0\n",
       "Age            177\n",
       "SibSp            0\n",
       "Parch            0\n",
       "Ticket           0\n",
       "Fare             0\n",
       "Cabin          687\n",
       "Embarked         2\n",
       "dtype: int64"
      ]
     },
     "execution_count": 3,
     "metadata": {},
     "output_type": "execute_result"
    }
   ],
   "source": [
    "train_df.isna().sum()\n",
    "# So Age, Cabin and Embarked have missing values"
   ]
  },
  {
   "cell_type": "code",
   "execution_count": 4,
   "metadata": {},
   "outputs": [
    {
     "data": {
      "text/plain": [
       "PassengerId      0\n",
       "Pclass           0\n",
       "Name             0\n",
       "Sex              0\n",
       "Age             86\n",
       "SibSp            0\n",
       "Parch            0\n",
       "Ticket           0\n",
       "Fare             1\n",
       "Cabin          327\n",
       "Embarked         0\n",
       "dtype: int64"
      ]
     },
     "execution_count": 4,
     "metadata": {},
     "output_type": "execute_result"
    }
   ],
   "source": [
    "test_df.isna().sum()"
   ]
  },
  {
   "cell_type": "code",
   "execution_count": 5,
   "metadata": {},
   "outputs": [
    {
     "name": "stdout",
     "output_type": "stream",
     "text": [
      "<class 'pandas.core.frame.DataFrame'>\n",
      "RangeIndex: 891 entries, 0 to 890\n",
      "Data columns (total 12 columns):\n",
      " #   Column       Non-Null Count  Dtype  \n",
      "---  ------       --------------  -----  \n",
      " 0   PassengerId  891 non-null    int64  \n",
      " 1   Survived     891 non-null    int64  \n",
      " 2   Pclass       891 non-null    int64  \n",
      " 3   Name         891 non-null    object \n",
      " 4   Sex          891 non-null    object \n",
      " 5   Age          714 non-null    float64\n",
      " 6   SibSp        891 non-null    int64  \n",
      " 7   Parch        891 non-null    int64  \n",
      " 8   Ticket       891 non-null    object \n",
      " 9   Fare         891 non-null    float64\n",
      " 10  Cabin        204 non-null    object \n",
      " 11  Embarked     889 non-null    object \n",
      "dtypes: float64(2), int64(5), object(5)\n",
      "memory usage: 83.7+ KB\n",
      "<class 'pandas.core.frame.DataFrame'>\n",
      "RangeIndex: 418 entries, 0 to 417\n",
      "Data columns (total 11 columns):\n",
      " #   Column       Non-Null Count  Dtype  \n",
      "---  ------       --------------  -----  \n",
      " 0   PassengerId  418 non-null    int64  \n",
      " 1   Pclass       418 non-null    int64  \n",
      " 2   Name         418 non-null    object \n",
      " 3   Sex          418 non-null    object \n",
      " 4   Age          332 non-null    float64\n",
      " 5   SibSp        418 non-null    int64  \n",
      " 6   Parch        418 non-null    int64  \n",
      " 7   Ticket       418 non-null    object \n",
      " 8   Fare         417 non-null    float64\n",
      " 9   Cabin        91 non-null     object \n",
      " 10  Embarked     418 non-null    object \n",
      "dtypes: float64(2), int64(4), object(5)\n",
      "memory usage: 36.1+ KB\n"
     ]
    }
   ],
   "source": [
    "train_df.info()\n",
    "test_df.info()\n",
    "# So we will have to impute the missing values\n",
    "# Seem like Cabin missing TOO MUCH values, so we will drop it later"
   ]
  },
  {
   "cell_type": "code",
   "execution_count": 6,
   "metadata": {},
   "outputs": [
    {
     "data": {
      "text/plain": [
       "28.0"
      ]
     },
     "execution_count": 6,
     "metadata": {},
     "output_type": "execute_result"
    }
   ],
   "source": [
    "# Fill values with median !!FROM TRAINING DATA!!\n",
    "train_df[\"Age\"] = train_df[\"Age\"].fillna(train_df[\"Age\"].median())\n",
    "test_df[\"Age\"] = test_df[\"Age\"].fillna(train_df[\"Age\"].median())\n",
    "\n",
    "# T8: Median age of training data is\n",
    "train_df[\"Age\"].median()"
   ]
  },
  {
   "cell_type": "code",
   "execution_count": 7,
   "metadata": {},
   "outputs": [
    {
     "data": {
      "text/plain": [
       "'S'"
      ]
     },
     "execution_count": 7,
     "metadata": {},
     "output_type": "execute_result"
    }
   ],
   "source": [
    "# Fill values with most common value !!FROM TRAIN_dfING DATA!!\n",
    "train_df[\"Embarked\"] = train_df[\"Embarked\"].fillna(train_df[\"Embarked\"].value_counts().idxmax())\n",
    "test_df[\"Embarked\"] = test_df[\"Embarked\"].fillna(train_df[\"Embarked\"].value_counts().idxmax())\n",
    "\n",
    "# T9: Most common port of embarked is\n",
    "train_df[\"Embarked\"].value_counts().idxmax()"
   ]
  },
  {
   "cell_type": "code",
   "execution_count": 8,
   "metadata": {},
   "outputs": [],
   "source": [
    "# Fare and PClass seems to be correlated, so we will use PClass to impute Fare\n",
    "test_df[\"Fare\"] = test_df[\"Fare\"].fillna(train_df.groupby(\"Pclass\")[\"Fare\"].transform(\"median\"))"
   ]
  },
  {
   "cell_type": "code",
   "execution_count": 9,
   "metadata": {},
   "outputs": [],
   "source": [
    "embarked_categories = dict([(k,i) for i,k in enumerate(train_df[\"Embarked\"].astype('category').cat.categories.tolist())])\n",
    "train_df[\"EmbarkedClass\"] = train_df[\"Embarked\"].map(embarked_categories)\n",
    "test_df[\"EmbarkedClass\"] = test_df[\"Embarked\"].map(embarked_categories)\n"
   ]
  },
  {
   "cell_type": "code",
   "execution_count": 10,
   "metadata": {},
   "outputs": [],
   "source": [
    "sex_categories = dict([(k,i) for i,k in enumerate(train_df[\"Sex\"].astype('category').cat.categories.tolist())])\n",
    "train_df[\"SexClass\"] = train_df[\"Sex\"].map(sex_categories)\n",
    "test_df[\"SexClass\"] = test_df[\"Sex\"].map(sex_categories)\n"
   ]
  },
  {
   "cell_type": "code",
   "execution_count": 11,
   "metadata": {},
   "outputs": [
    {
     "data": {
      "text/plain": [
       "(PassengerId        0\n",
       " Survived           0\n",
       " Pclass             0\n",
       " Name               0\n",
       " Sex                0\n",
       " Age                0\n",
       " SibSp              0\n",
       " Parch              0\n",
       " Ticket             0\n",
       " Fare               0\n",
       " Cabin            687\n",
       " Embarked           0\n",
       " EmbarkedClass      0\n",
       " SexClass           0\n",
       " dtype: int64,\n",
       " PassengerId        0\n",
       " Pclass             0\n",
       " Name               0\n",
       " Sex                0\n",
       " Age                0\n",
       " SibSp              0\n",
       " Parch              0\n",
       " Ticket             0\n",
       " Fare               0\n",
       " Cabin            327\n",
       " Embarked           0\n",
       " EmbarkedClass      0\n",
       " SexClass           0\n",
       " dtype: int64)"
      ]
     },
     "execution_count": 11,
     "metadata": {},
     "output_type": "execute_result"
    }
   ],
   "source": [
    "train_df.isna().sum(),test_df.isna().sum()\n",
    "\n",
    "# Data is quite cleaned!!"
   ]
  },
  {
   "cell_type": "code",
   "execution_count": 12,
   "metadata": {},
   "outputs": [
    {
     "data": {
      "text/plain": [
       "array([[ 3.,  1., 22.,  2.],\n",
       "       [ 1.,  0., 38.,  0.],\n",
       "       [ 3.,  0., 26.,  2.],\n",
       "       ...,\n",
       "       [ 3.,  0., 28.,  2.],\n",
       "       [ 1.,  1., 26.,  0.],\n",
       "       [ 3.,  1., 32.,  1.]], dtype=float32)"
      ]
     },
     "execution_count": 12,
     "metadata": {},
     "output_type": "execute_result"
    }
   ],
   "source": [
    "train_data = np.array(train_df[[\"Pclass\",\"SexClass\",\"Age\",\"EmbarkedClass\"]].values,dtype=np.float32).reshape(-1,4)\n",
    "train_label = np.array(train_df[\"Survived\"].values,dtype=np.int8).reshape(-1,1)\n",
    "train_data"
   ]
  },
  {
   "cell_type": "code",
   "execution_count": 13,
   "metadata": {},
   "outputs": [
    {
     "data": {
      "text/plain": [
       "array([[ 3. ,  1. , 34.5,  1. ],\n",
       "       [ 3. ,  0. , 47. ,  2. ],\n",
       "       [ 2. ,  1. , 62. ,  1. ],\n",
       "       ...,\n",
       "       [ 3. ,  1. , 38.5,  2. ],\n",
       "       [ 3. ,  1. , 28. ,  2. ],\n",
       "       [ 3. ,  1. , 28. ,  0. ]], dtype=float32)"
      ]
     },
     "execution_count": 13,
     "metadata": {},
     "output_type": "execute_result"
    }
   ],
   "source": [
    "test_data = np.array(test_df[[\"Pclass\",\"SexClass\",\"Age\",\"EmbarkedClass\"]].values,dtype=np.float32).reshape(-1,4)\n",
    "test_data"
   ]
  },
  {
   "cell_type": "code",
   "execution_count": 14,
   "metadata": {},
   "outputs": [
    {
     "data": {
      "text/plain": [
       "[<matplotlib.lines.Line2D at 0x7f93fad7f3e0>]"
      ]
     },
     "execution_count": 14,
     "metadata": {},
     "output_type": "execute_result"
    },
    {
     "data": {
      "image/png": "[encoded data removed]",
      "text/plain": [
       "<Figure size 640x480 with 1 Axes>"
      ]
     },
     "metadata": {},
     "output_type": "display_data"
    }
   ],
   "source": [
    "def sigmoid(z): return 1/(1+np.exp(-z))\n",
    "\n",
    "x = np.linspace(-10,10,100)\n",
    "z = sigmoid(x)\n",
    "plt.plot(x,z)"
   ]
  },
  {
   "cell_type": "code",
   "execution_count": 15,
   "metadata": {},
   "outputs": [],
   "source": [
    "class LogisticRegression:\n",
    "  def  __init__(self,train_x,train_y,test_x,learning_rate=1e-3) -> None:\n",
    "    self.train_x = train_x\n",
    "    self.train_y = train_y\n",
    "    self.pred = np.zeros_like(train_y)\n",
    "    self.pred_class = np.zeros_like(train_y)\n",
    "    self.test_x = test_x\n",
    "    self.cost,self.grad = self.cost_function()\n",
    "    self.learning_rate = learning_rate\n",
    "    self.W = self.__random_init_param()\n",
    "    self.test_accuracies = []\n",
    "\n",
    "  def __random_init_param(self):\n",
    "    #size of X is [m, n] where m=sample, n=features\n",
    "    W = np.random.randn(len(self.train_x[0]), 1) # +1 for Bias term\n",
    "    return W\n",
    "  \n",
    "  def __sigmoid(self,z): return 1/(1+np.exp(-z))\n",
    "\n",
    "  def __add_bias(self,X):\n",
    "    Bias = np.ones((len(X), 1))\n",
    "    res = np.concatenate((Bias, X), axis=1)\n",
    "    return res\n",
    "  \n",
    "  def cost_function(self):\n",
    "    if type(self.pred) == \"None\" : return None\n",
    "    m = len(self.train_y)\n",
    "    loss = np.dot(-self.train_y.T, np.log(self.__sigmoid(self.pred)+1e-10))-np.dot((1-self.train_y).T, np.log((1-self.__sigmoid(self.pred)+1e-10)))\n",
    "    cost = (1/m) * loss \n",
    "    grad = (1/m) * (np.dot(self.train_x.T, (self.__sigmoid(self.pred)-self.train_y)))\n",
    "    return cost.astype('float64'), grad.astype('float64')\n",
    "\n",
    "  def predict(self, X=None,sigmoid=True):\n",
    "    if X is None : X = self.train_x\n",
    "    h = np.dot(X, self.W)\n",
    "    return self.__sigmoid(h) if sigmoid else h\n",
    "  \n",
    "  def train_accuracy(self):\n",
    "    return np.squeeze(np.squeeze((sum(self.train_y == self.pred_class)/len(self.train_x))*100))\n",
    "  \n",
    "\n",
    "  def step(self):\n",
    "    #update parameters\n",
    "    self.W = self.W - self.learning_rate * self.grad\n",
    "    self.grad = 0\n",
    "  \n",
    "  def train(self,epoch=int(1e+8),interuption_step=10,logging_step=None):\n",
    "    if logging_step is None : logging_step = epoch**0.5\n",
    "    loss_step = 0\n",
    "    best_W = self.W\n",
    "    for i in range(1,epoch+1):\n",
    "      self.pred = self.predict(None,False)\n",
    "      self.pred_class = np.where(self.__sigmoid(self.pred) >= 0.5, 1, 0)\n",
    "      cost, grad = self.cost_function()\n",
    "      self.grad = grad\n",
    "      self.step()\n",
    "      if i%logging_step == 0: print(f\"Epoch : {i}/{epoch}, Train Accuracy :{self.train_accuracy():.2f}%, Cost : {cost.item():.5f}\")\n",
    "      if cost.item() < self.cost.item() : \n",
    "        loss_step = 0\n",
    "        best_W = self.W\n",
    "      else :\n",
    "        loss_step += 1\n",
    "        if loss_step == interuption_step :\n",
    "          print(f\"Loss is increasing, stop training at epoch {i}\")\n",
    "          self.W = best_W\n",
    "          break\n",
    "      self.cost = cost\n",
    "  \n",
    "  def test(self):\n",
    "    self.test_pred = self.predict(self.test_x)\n",
    "    return self.test_pred\n"
   ]
  },
  {
   "cell_type": "code",
   "execution_count": 16,
   "metadata": {},
   "outputs": [
    {
     "name": "stdout",
     "output_type": "stream",
     "text": [
      "Epoch : 10000/100000000, Train Accuracy :71.49%, Cost : 0.56660\n",
      "Epoch : 20000/100000000, Train Accuracy :77.33%, Cost : 0.54443\n",
      "Epoch : 30000/100000000, Train Accuracy :77.67%, Cost : 0.53633\n",
      "Epoch : 40000/100000000, Train Accuracy :77.67%, Cost : 0.53302\n",
      "Epoch : 50000/100000000, Train Accuracy :78.00%, Cost : 0.53162\n",
      "Epoch : 60000/100000000, Train Accuracy :77.67%, Cost : 0.53100\n",
      "Epoch : 70000/100000000, Train Accuracy :77.55%, Cost : 0.53073\n",
      "Epoch : 80000/100000000, Train Accuracy :77.55%, Cost : 0.53061\n",
      "Epoch : 90000/100000000, Train Accuracy :77.67%, Cost : 0.53056\n",
      "Epoch : 100000/100000000, Train Accuracy :77.89%, Cost : 0.53053\n",
      "Epoch : 110000/100000000, Train Accuracy :77.89%, Cost : 0.53052\n",
      "Epoch : 120000/100000000, Train Accuracy :77.89%, Cost : 0.53052\n",
      "Epoch : 130000/100000000, Train Accuracy :77.89%, Cost : 0.53051\n",
      "Epoch : 140000/100000000, Train Accuracy :77.89%, Cost : 0.53051\n",
      "Epoch : 150000/100000000, Train Accuracy :77.78%, Cost : 0.53051\n",
      "Epoch : 160000/100000000, Train Accuracy :77.78%, Cost : 0.53051\n",
      "Epoch : 170000/100000000, Train Accuracy :77.67%, Cost : 0.53051\n",
      "Epoch : 180000/100000000, Train Accuracy :77.67%, Cost : 0.53051\n",
      "Epoch : 190000/100000000, Train Accuracy :77.67%, Cost : 0.53051\n",
      "Epoch : 200000/100000000, Train Accuracy :77.67%, Cost : 0.53051\n",
      "Epoch : 210000/100000000, Train Accuracy :77.67%, Cost : 0.53051\n",
      "Epoch : 220000/100000000, Train Accuracy :77.67%, Cost : 0.53051\n",
      "Epoch : 230000/100000000, Train Accuracy :77.67%, Cost : 0.53051\n",
      "Epoch : 240000/100000000, Train Accuracy :77.67%, Cost : 0.53051\n",
      "Epoch : 250000/100000000, Train Accuracy :77.67%, Cost : 0.53051\n",
      "Epoch : 260000/100000000, Train Accuracy :77.67%, Cost : 0.53051\n",
      "Epoch : 270000/100000000, Train Accuracy :77.67%, Cost : 0.53051\n",
      "Epoch : 280000/100000000, Train Accuracy :77.67%, Cost : 0.53051\n",
      "Epoch : 290000/100000000, Train Accuracy :77.67%, Cost : 0.53051\n",
      "Epoch : 300000/100000000, Train Accuracy :77.67%, Cost : 0.53051\n",
      "Epoch : 310000/100000000, Train Accuracy :77.67%, Cost : 0.53051\n",
      "Epoch : 320000/100000000, Train Accuracy :77.67%, Cost : 0.53051\n",
      "Epoch : 330000/100000000, Train Accuracy :77.67%, Cost : 0.53051\n",
      "Loss is increasing, stop training at epoch 335870\n",
      "Cost : [[0.53051089]] \tTrain accuracy : 77.665544332211\n"
     ]
    }
   ],
   "source": [
    "model = LogisticRegression(train_data,train_label,test_data,0.001)\n",
    "model.train()\n",
    "print(\"Cost :\",model.cost_function()[0],\"\\tTrain accuracy :\",model.train_accuracy())"
   ]
  },
  {
   "cell_type": "code",
   "execution_count": 17,
   "metadata": {},
   "outputs": [
    {
     "data": {
      "text/html": [
       "<div>\n",
       "<style scoped>\n",
       "    .dataframe tbody tr th:only-of-type {\n",
       "        vertical-align: middle;\n",
       "    }\n",
       "\n",
       "    .dataframe tbody tr th {\n",
       "        vertical-align: top;\n",
       "    }\n",
       "\n",
       "    .dataframe thead th {\n",
       "        text-align: right;\n",
       "    }\n",
       "</style>\n",
       "<table border=\"1\" class=\"dataframe\">\n",
       "  <thead>\n",
       "    <tr style=\"text-align: right;\">\n",
       "      <th></th>\n",
       "      <th>PassengerId</th>\n",
       "      <th>Pclass</th>\n",
       "      <th>Name</th>\n",
       "      <th>Sex</th>\n",
       "      <th>Age</th>\n",
       "      <th>SibSp</th>\n",
       "      <th>Parch</th>\n",
       "      <th>Ticket</th>\n",
       "      <th>Fare</th>\n",
       "      <th>Cabin</th>\n",
       "      <th>Embarked</th>\n",
       "      <th>EmbarkedClass</th>\n",
       "      <th>SexClass</th>\n",
       "      <th>Survived</th>\n",
       "    </tr>\n",
       "  </thead>\n",
       "  <tbody>\n",
       "    <tr>\n",
       "      <th>0</th>\n",
       "      <td>892</td>\n",
       "      <td>3</td>\n",
       "      <td>Kelly, Mr. James</td>\n",
       "      <td>male</td>\n",
       "      <td>34.5</td>\n",
       "      <td>0</td>\n",
       "      <td>0</td>\n",
       "      <td>330911</td>\n",
       "      <td>7.8292</td>\n",
       "      <td>NaN</td>\n",
       "      <td>Q</td>\n",
       "      <td>1</td>\n",
       "      <td>1</td>\n",
       "      <td>0</td>\n",
       "    </tr>\n",
       "    <tr>\n",
       "      <th>1</th>\n",
       "      <td>893</td>\n",
       "      <td>3</td>\n",
       "      <td>Wilkes, Mrs. James (Ellen Needs)</td>\n",
       "      <td>female</td>\n",
       "      <td>47.0</td>\n",
       "      <td>1</td>\n",
       "      <td>0</td>\n",
       "      <td>363272</td>\n",
       "      <td>7.0000</td>\n",
       "      <td>NaN</td>\n",
       "      <td>S</td>\n",
       "      <td>2</td>\n",
       "      <td>0</td>\n",
       "      <td>1</td>\n",
       "    </tr>\n",
       "    <tr>\n",
       "      <th>2</th>\n",
       "      <td>894</td>\n",
       "      <td>2</td>\n",
       "      <td>Myles, Mr. Thomas Francis</td>\n",
       "      <td>male</td>\n",
       "      <td>62.0</td>\n",
       "      <td>0</td>\n",
       "      <td>0</td>\n",
       "      <td>240276</td>\n",
       "      <td>9.6875</td>\n",
       "      <td>NaN</td>\n",
       "      <td>Q</td>\n",
       "      <td>1</td>\n",
       "      <td>1</td>\n",
       "      <td>0</td>\n",
       "    </tr>\n",
       "    <tr>\n",
       "      <th>3</th>\n",
       "      <td>895</td>\n",
       "      <td>3</td>\n",
       "      <td>Wirz, Mr. Albert</td>\n",
       "      <td>male</td>\n",
       "      <td>27.0</td>\n",
       "      <td>0</td>\n",
       "      <td>0</td>\n",
       "      <td>315154</td>\n",
       "      <td>8.6625</td>\n",
       "      <td>NaN</td>\n",
       "      <td>S</td>\n",
       "      <td>2</td>\n",
       "      <td>1</td>\n",
       "      <td>0</td>\n",
       "    </tr>\n",
       "    <tr>\n",
       "      <th>4</th>\n",
       "      <td>896</td>\n",
       "      <td>3</td>\n",
       "      <td>Hirvonen, Mrs. Alexander (Helga E Lindqvist)</td>\n",
       "      <td>female</td>\n",
       "      <td>22.0</td>\n",
       "      <td>1</td>\n",
       "      <td>1</td>\n",
       "      <td>3101298</td>\n",
       "      <td>12.2875</td>\n",
       "      <td>NaN</td>\n",
       "      <td>S</td>\n",
       "      <td>2</td>\n",
       "      <td>0</td>\n",
       "      <td>1</td>\n",
       "    </tr>\n",
       "    <tr>\n",
       "      <th>...</th>\n",
       "      <td>...</td>\n",
       "      <td>...</td>\n",
       "      <td>...</td>\n",
       "      <td>...</td>\n",
       "      <td>...</td>\n",
       "      <td>...</td>\n",
       "      <td>...</td>\n",
       "      <td>...</td>\n",
       "      <td>...</td>\n",
       "      <td>...</td>\n",
       "      <td>...</td>\n",
       "      <td>...</td>\n",
       "      <td>...</td>\n",
       "      <td>...</td>\n",
       "    </tr>\n",
       "    <tr>\n",
       "      <th>413</th>\n",
       "      <td>1305</td>\n",
       "      <td>3</td>\n",
       "      <td>Spector, Mr. Woolf</td>\n",
       "      <td>male</td>\n",
       "      <td>28.0</td>\n",
       "      <td>0</td>\n",
       "      <td>0</td>\n",
       "      <td>A.5. 3236</td>\n",
       "      <td>8.0500</td>\n",
       "      <td>NaN</td>\n",
       "      <td>S</td>\n",
       "      <td>2</td>\n",
       "      <td>1</td>\n",
       "      <td>0</td>\n",
       "    </tr>\n",
       "    <tr>\n",
       "      <th>414</th>\n",
       "      <td>1306</td>\n",
       "      <td>1</td>\n",
       "      <td>Oliva y Ocana, Dona. Fermina</td>\n",
       "      <td>female</td>\n",
       "      <td>39.0</td>\n",
       "      <td>0</td>\n",
       "      <td>0</td>\n",
       "      <td>PC 17758</td>\n",
       "      <td>108.9000</td>\n",
       "      <td>C105</td>\n",
       "      <td>C</td>\n",
       "      <td>0</td>\n",
       "      <td>0</td>\n",
       "      <td>1</td>\n",
       "    </tr>\n",
       "    <tr>\n",
       "      <th>415</th>\n",
       "      <td>1307</td>\n",
       "      <td>3</td>\n",
       "      <td>Saether, Mr. Simon Sivertsen</td>\n",
       "      <td>male</td>\n",
       "      <td>38.5</td>\n",
       "      <td>0</td>\n",
       "      <td>0</td>\n",
       "      <td>SOTON/O.Q. 3101262</td>\n",
       "      <td>7.2500</td>\n",
       "      <td>NaN</td>\n",
       "      <td>S</td>\n",
       "      <td>2</td>\n",
       "      <td>1</td>\n",
       "      <td>0</td>\n",
       "    </tr>\n",
       "    <tr>\n",
       "      <th>416</th>\n",
       "      <td>1308</td>\n",
       "      <td>3</td>\n",
       "      <td>Ware, Mr. Frederick</td>\n",
       "      <td>male</td>\n",
       "      <td>28.0</td>\n",
       "      <td>0</td>\n",
       "      <td>0</td>\n",
       "      <td>359309</td>\n",
       "      <td>8.0500</td>\n",
       "      <td>NaN</td>\n",
       "      <td>S</td>\n",
       "      <td>2</td>\n",
       "      <td>1</td>\n",
       "      <td>0</td>\n",
       "    </tr>\n",
       "    <tr>\n",
       "      <th>417</th>\n",
       "      <td>1309</td>\n",
       "      <td>3</td>\n",
       "      <td>Peter, Master. Michael J</td>\n",
       "      <td>male</td>\n",
       "      <td>28.0</td>\n",
       "      <td>1</td>\n",
       "      <td>1</td>\n",
       "      <td>2668</td>\n",
       "      <td>22.3583</td>\n",
       "      <td>NaN</td>\n",
       "      <td>C</td>\n",
       "      <td>0</td>\n",
       "      <td>1</td>\n",
       "      <td>0</td>\n",
       "    </tr>\n",
       "  </tbody>\n",
       "</table>\n",
       "<p>418 rows × 14 columns</p>\n",
       "</div>"
      ],
      "text/plain": [
       "     PassengerId  Pclass                                          Name  \\\n",
       "0            892       3                              Kelly, Mr. James   \n",
       "1            893       3              Wilkes, Mrs. James (Ellen Needs)   \n",
       "2            894       2                     Myles, Mr. Thomas Francis   \n",
       "3            895       3                              Wirz, Mr. Albert   \n",
       "4            896       3  Hirvonen, Mrs. Alexander (Helga E Lindqvist)   \n",
       "..           ...     ...                                           ...   \n",
       "413         1305       3                            Spector, Mr. Woolf   \n",
       "414         1306       1                  Oliva y Ocana, Dona. Fermina   \n",
       "415         1307       3                  Saether, Mr. Simon Sivertsen   \n",
       "416         1308       3                           Ware, Mr. Frederick   \n",
       "417         1309       3                      Peter, Master. Michael J   \n",
       "\n",
       "        Sex   Age  SibSp  Parch              Ticket      Fare Cabin Embarked  \\\n",
       "0      male  34.5      0      0              330911    7.8292   NaN        Q   \n",
       "1    female  47.0      1      0              363272    7.0000   NaN        S   \n",
       "2      male  62.0      0      0              240276    9.6875   NaN        Q   \n",
       "3      male  27.0      0      0              315154    8.6625   NaN        S   \n",
       "4    female  22.0      1      1             3101298   12.2875   NaN        S   \n",
       "..      ...   ...    ...    ...                 ...       ...   ...      ...   \n",
       "413    male  28.0      0      0           A.5. 3236    8.0500   NaN        S   \n",
       "414  female  39.0      0      0            PC 17758  108.9000  C105        C   \n",
       "415    male  38.5      0      0  SOTON/O.Q. 3101262    7.2500   NaN        S   \n",
       "416    male  28.0      0      0              359309    8.0500   NaN        S   \n",
       "417    male  28.0      1      1                2668   22.3583   NaN        C   \n",
       "\n",
       "     EmbarkedClass  SexClass  Survived  \n",
       "0                1         1         0  \n",
       "1                2         0         1  \n",
       "2                1         1         0  \n",
       "3                2         1         0  \n",
       "4                2         0         1  \n",
       "..             ...       ...       ...  \n",
       "413              2         1         0  \n",
       "414              0         0         1  \n",
       "415              2         1         0  \n",
       "416              2         1         0  \n",
       "417              0         1         0  \n",
       "\n",
       "[418 rows x 14 columns]"
      ]
     },
     "execution_count": 17,
     "metadata": {},
     "output_type": "execute_result"
    }
   ],
   "source": [
    "res = model.test()\n",
    "pred_class = np.where(res>=0.5,1,0)\n",
    "test_df[\"Survived\"] = pred_class\n",
    "test_df[[\"PassengerId\",\"Survived\"]].to_csv(\"submission.csv\",index=False)\n",
    "test_df\n"
   ]
  },
  {
   "attachments": {
    "image-2.png": {
     "image/png": "[encoded data removed]"
    }
   },
   "cell_type": "markdown",
   "metadata": {},
   "source": [
    "# T11: My submission score is 0.76076\n",
    "![image-2.png](attachment:image-2.png)"
   ]
  },
  {
   "cell_type": "code",
   "execution_count": 30,
   "metadata": {},
   "outputs": [],
   "source": [
    "poly_features_train = np.array(train_df[[\"Pclass\",\"SexClass\",\"Age\",\"EmbarkedClass\"]].values,dtype=np.float32).reshape(-1,4)\n",
    "poly_features_test = np.array(test_df[[\"Pclass\",\"SexClass\",\"Age\",\"EmbarkedClass\"]].values,dtype=np.float32).reshape(-1,4)\n",
    "for i in range(train_data.shape[1]):\n",
    "  poly_features_train = np.concatenate((poly_features_train,train_data[:,i].reshape(-1,1)**2),axis=1)\n",
    "  poly_features_test = np.concatenate((poly_features_test,test_data[:,i].reshape(-1,1)**2),axis=1)\n",
    "  for j in range(i,train_data.shape[1]):\n",
    "    poly_features_train = np.concatenate((poly_features_train,train_data[:,i].reshape(-1,1)*train_data[:,j].reshape(-1,1)),axis=1)\n",
    "    poly_features_test = np.concatenate((poly_features_test,test_data[:,i].reshape(-1,1)*test_data[:,j].reshape(-1,1)),axis=1)"
   ]
  },
  {
   "cell_type": "code",
   "execution_count": 31,
   "metadata": {},
   "outputs": [
    {
     "data": {
      "text/plain": [
       "((891, 18), (418, 18))"
      ]
     },
     "execution_count": 31,
     "metadata": {},
     "output_type": "execute_result"
    }
   ],
   "source": [
    "poly_features_train.shape,poly_features_test.shape"
   ]
  },
  {
   "cell_type": "code",
   "execution_count": 45,
   "metadata": {},
   "outputs": [
    {
     "name": "stderr",
     "output_type": "stream",
     "text": [
      "/tmp/ipykernel_294501/3797932207.py:18: RuntimeWarning: overflow encountered in exp\n",
      "  def __sigmoid(self,z): return 1/(1+np.exp(-z))\n"
     ]
    },
    {
     "name": "stdout",
     "output_type": "stream",
     "text": [
      "Epoch : 10000/100000000, Train Accuracy :42.99%, Cost : 4.41231\n",
      "Epoch : 20000/100000000, Train Accuracy :71.04%, Cost : 2.40492\n",
      "Loss is increasing, stop training at epoch 23068\n",
      "Cost : [[1.40367608]] \tTrain accuracy : 75.75757575757575\n"
     ]
    }
   ],
   "source": [
    "model2 = LogisticRegression(poly_features_train,train_label,poly_features_test,3e-5)\n",
    "model2.train()\n",
    "res2 = model2.test()\n",
    "res2_class = np.where(res2>=0.5,1,0)\n",
    "print(\"Cost :\",model2.cost_function()[0],\"\\tTrain accuracy :\",model2.train_accuracy())\n",
    "test_df[\"Survived\"] = res2_class\n",
    "test_df[['PassengerId','Survived']].to_csv('submission2.csv',index=False)"
   ]
  },
  {
   "attachments": {
    "image.png": {
     "image/png": "[encoded data removed]"
    }
   },
   "cell_type": "markdown",
   "metadata": {},
   "source": [
    "# T12: My submission has acccuracy of model2 is worse than fisrt try\n",
    "![image.png](attachment:image.png)"
   ]
  },
  {
   "cell_type": "code",
   "execution_count": 29,
   "metadata": {},
   "outputs": [
    {
     "name": "stdout",
     "output_type": "stream",
     "text": [
      "Epoch : 1000/1000000, Train Accuracy :61.62%, Cost : 0.60242\n",
      "Epoch : 2000/1000000, Train Accuracy :61.62%, Cost : 0.58151\n",
      "Epoch : 3000/1000000, Train Accuracy :78.68%, Cost : 0.56721\n",
      "Epoch : 4000/1000000, Train Accuracy :78.68%, Cost : 0.55732\n",
      "Epoch : 5000/1000000, Train Accuracy :78.68%, Cost : 0.55038\n",
      "Epoch : 6000/1000000, Train Accuracy :78.68%, Cost : 0.54547\n",
      "Epoch : 7000/1000000, Train Accuracy :78.68%, Cost : 0.54196\n",
      "Epoch : 8000/1000000, Train Accuracy :78.68%, Cost : 0.53942\n",
      "Epoch : 9000/1000000, Train Accuracy :78.68%, Cost : 0.53757\n",
      "Epoch : 10000/1000000, Train Accuracy :78.68%, Cost : 0.53621\n",
      "Epoch : 11000/1000000, Train Accuracy :78.68%, Cost : 0.53521\n",
      "Epoch : 12000/1000000, Train Accuracy :78.68%, Cost : 0.53447\n",
      "Epoch : 13000/1000000, Train Accuracy :78.68%, Cost : 0.53392\n",
      "Epoch : 14000/1000000, Train Accuracy :78.68%, Cost : 0.53351\n",
      "Epoch : 15000/1000000, Train Accuracy :78.68%, Cost : 0.53320\n",
      "Epoch : 16000/1000000, Train Accuracy :78.68%, Cost : 0.53297\n",
      "Epoch : 17000/1000000, Train Accuracy :78.68%, Cost : 0.53279\n",
      "Epoch : 18000/1000000, Train Accuracy :78.68%, Cost : 0.53266\n",
      "Epoch : 19000/1000000, Train Accuracy :78.68%, Cost : 0.53256\n",
      "Epoch : 20000/1000000, Train Accuracy :78.68%, Cost : 0.53249\n",
      "Epoch : 21000/1000000, Train Accuracy :78.68%, Cost : 0.53243\n",
      "Epoch : 22000/1000000, Train Accuracy :78.68%, Cost : 0.53238\n",
      "Epoch : 23000/1000000, Train Accuracy :78.68%, Cost : 0.53235\n",
      "Epoch : 24000/1000000, Train Accuracy :78.68%, Cost : 0.53233\n",
      "Epoch : 25000/1000000, Train Accuracy :78.68%, Cost : 0.53231\n",
      "Epoch : 26000/1000000, Train Accuracy :78.68%, Cost : 0.53229\n",
      "Epoch : 27000/1000000, Train Accuracy :78.68%, Cost : 0.53228\n",
      "Epoch : 28000/1000000, Train Accuracy :78.68%, Cost : 0.53227\n",
      "Epoch : 29000/1000000, Train Accuracy :78.68%, Cost : 0.53227\n",
      "Epoch : 30000/1000000, Train Accuracy :78.68%, Cost : 0.53226\n",
      "Epoch : 31000/1000000, Train Accuracy :78.68%, Cost : 0.53226\n",
      "Epoch : 32000/1000000, Train Accuracy :78.68%, Cost : 0.53225\n",
      "Epoch : 33000/1000000, Train Accuracy :78.68%, Cost : 0.53225\n",
      "Epoch : 34000/1000000, Train Accuracy :78.68%, Cost : 0.53225\n",
      "Epoch : 35000/1000000, Train Accuracy :78.68%, Cost : 0.53225\n",
      "Epoch : 36000/1000000, Train Accuracy :78.68%, Cost : 0.53225\n",
      "Epoch : 37000/1000000, Train Accuracy :78.68%, Cost : 0.53225\n",
      "Epoch : 38000/1000000, Train Accuracy :78.68%, Cost : 0.53225\n",
      "Epoch : 39000/1000000, Train Accuracy :78.68%, Cost : 0.53225\n",
      "Epoch : 40000/1000000, Train Accuracy :78.68%, Cost : 0.53225\n",
      "Epoch : 41000/1000000, Train Accuracy :78.68%, Cost : 0.53224\n",
      "Epoch : 42000/1000000, Train Accuracy :78.68%, Cost : 0.53224\n",
      "Epoch : 43000/1000000, Train Accuracy :78.68%, Cost : 0.53224\n",
      "Epoch : 44000/1000000, Train Accuracy :78.68%, Cost : 0.53224\n",
      "Epoch : 45000/1000000, Train Accuracy :78.68%, Cost : 0.53224\n",
      "Epoch : 46000/1000000, Train Accuracy :78.68%, Cost : 0.53224\n",
      "Epoch : 47000/1000000, Train Accuracy :78.68%, Cost : 0.53224\n",
      "Epoch : 48000/1000000, Train Accuracy :78.68%, Cost : 0.53224\n",
      "Epoch : 49000/1000000, Train Accuracy :78.68%, Cost : 0.53224\n",
      "Epoch : 50000/1000000, Train Accuracy :78.68%, Cost : 0.53224\n",
      "Epoch : 51000/1000000, Train Accuracy :78.68%, Cost : 0.53224\n",
      "Epoch : 52000/1000000, Train Accuracy :78.68%, Cost : 0.53224\n",
      "Epoch : 53000/1000000, Train Accuracy :78.68%, Cost : 0.53224\n",
      "Epoch : 54000/1000000, Train Accuracy :78.68%, Cost : 0.53224\n",
      "Epoch : 55000/1000000, Train Accuracy :78.68%, Cost : 0.53224\n",
      "Epoch : 56000/1000000, Train Accuracy :78.68%, Cost : 0.53224\n",
      "Epoch : 57000/1000000, Train Accuracy :78.68%, Cost : 0.53224\n",
      "Epoch : 58000/1000000, Train Accuracy :78.68%, Cost : 0.53224\n",
      "Epoch : 59000/1000000, Train Accuracy :78.68%, Cost : 0.53224\n",
      "Epoch : 60000/1000000, Train Accuracy :78.68%, Cost : 0.53224\n",
      "Epoch : 61000/1000000, Train Accuracy :78.68%, Cost : 0.53224\n",
      "Epoch : 62000/1000000, Train Accuracy :78.68%, Cost : 0.53224\n",
      "Epoch : 63000/1000000, Train Accuracy :78.68%, Cost : 0.53224\n",
      "Epoch : 64000/1000000, Train Accuracy :78.68%, Cost : 0.53224\n",
      "Epoch : 65000/1000000, Train Accuracy :78.68%, Cost : 0.53224\n",
      "Epoch : 66000/1000000, Train Accuracy :78.68%, Cost : 0.53224\n",
      "Epoch : 67000/1000000, Train Accuracy :78.68%, Cost : 0.53224\n",
      "Epoch : 68000/1000000, Train Accuracy :78.68%, Cost : 0.53224\n",
      "Epoch : 69000/1000000, Train Accuracy :78.68%, Cost : 0.53224\n",
      "Epoch : 70000/1000000, Train Accuracy :78.68%, Cost : 0.53224\n",
      "Epoch : 71000/1000000, Train Accuracy :78.68%, Cost : 0.53224\n",
      "Epoch : 72000/1000000, Train Accuracy :78.68%, Cost : 0.53224\n",
      "Epoch : 73000/1000000, Train Accuracy :78.68%, Cost : 0.53224\n",
      "Epoch : 74000/1000000, Train Accuracy :78.68%, Cost : 0.53224\n",
      "Epoch : 75000/1000000, Train Accuracy :78.68%, Cost : 0.53224\n",
      "Epoch : 76000/1000000, Train Accuracy :78.68%, Cost : 0.53224\n",
      "Epoch : 77000/1000000, Train Accuracy :78.68%, Cost : 0.53224\n",
      "Epoch : 78000/1000000, Train Accuracy :78.68%, Cost : 0.53224\n",
      "Epoch : 79000/1000000, Train Accuracy :78.68%, Cost : 0.53224\n",
      "Epoch : 80000/1000000, Train Accuracy :78.68%, Cost : 0.53224\n",
      "Epoch : 81000/1000000, Train Accuracy :78.68%, Cost : 0.53224\n",
      "Epoch : 82000/1000000, Train Accuracy :78.68%, Cost : 0.53224\n",
      "Epoch : 83000/1000000, Train Accuracy :78.68%, Cost : 0.53224\n",
      "Epoch : 84000/1000000, Train Accuracy :78.68%, Cost : 0.53224\n",
      "Epoch : 85000/1000000, Train Accuracy :78.68%, Cost : 0.53224\n",
      "Epoch : 86000/1000000, Train Accuracy :78.68%, Cost : 0.53224\n",
      "Epoch : 87000/1000000, Train Accuracy :78.68%, Cost : 0.53224\n",
      "Epoch : 88000/1000000, Train Accuracy :78.68%, Cost : 0.53224\n",
      "Epoch : 89000/1000000, Train Accuracy :78.68%, Cost : 0.53224\n",
      "Epoch : 90000/1000000, Train Accuracy :78.68%, Cost : 0.53224\n",
      "Epoch : 91000/1000000, Train Accuracy :78.68%, Cost : 0.53224\n",
      "Epoch : 92000/1000000, Train Accuracy :78.68%, Cost : 0.53224\n",
      "Epoch : 93000/1000000, Train Accuracy :78.68%, Cost : 0.53224\n",
      "Epoch : 94000/1000000, Train Accuracy :78.68%, Cost : 0.53224\n",
      "Epoch : 95000/1000000, Train Accuracy :78.68%, Cost : 0.53224\n",
      "Epoch : 96000/1000000, Train Accuracy :78.68%, Cost : 0.53224\n",
      "Epoch : 97000/1000000, Train Accuracy :78.68%, Cost : 0.53224\n",
      "Epoch : 98000/1000000, Train Accuracy :78.68%, Cost : 0.53224\n",
      "Epoch : 99000/1000000, Train Accuracy :78.68%, Cost : 0.53224\n",
      "Epoch : 100000/1000000, Train Accuracy :78.68%, Cost : 0.53224\n",
      "Epoch : 101000/1000000, Train Accuracy :78.68%, Cost : 0.53224\n",
      "Epoch : 102000/1000000, Train Accuracy :78.68%, Cost : 0.53224\n",
      "Epoch : 103000/1000000, Train Accuracy :78.68%, Cost : 0.53224\n",
      "Loss is increasing, stop training at epoch 103268\n",
      "Cost : [[0.53051089]] \tTrain accuracy : 77.665544332211\n"
     ]
    }
   ],
   "source": [
    "model3 = LogisticRegression(np.array(train_df[[\"SexClass\",\"Age\"]].values,dtype=np.float32).reshape(-1,2),train_label,np.array(test_df[[\"SexClass\",\"Age\"]].values,dtype=np.float32).reshape(-1,2),0.003)\n",
    "model3.train(1000000)\n",
    "print(\"Cost :\",model.cost_function()[0],\"\\tTrain accuracy :\",model.train_accuracy())\n",
    "res3 = model3.test()\n",
    "res3_class = np.where(res3>=0.5,1,0)\n",
    "test_df[\"Survived\"] = res3_class\n",
    "test_df[['PassengerId','Survived']].to_csv('submission3.csv',index=False)\n"
   ]
  },
  {
   "attachments": {
    "image-2.png": {
     "image/png": "[encoded data removed]"
    }
   },
   "cell_type": "markdown",
   "metadata": {},
   "source": [
    "# T13: Seems a bit better?\n",
    "![image-2.png](attachment:image-2.png)"
   ]
  },
  {
   "cell_type": "markdown",
   "metadata": {},
   "source": []
  }
 ],
 "metadata": {
  "kernelspec": {
   "display_name": "Python 3 (ipykernel)",
   "language": "python",
   "name": "python3"
  },
  "language_info": {
   "codemirror_mode": {
    "name": "ipython",
    "version": 3
   },
   "file_extension": ".py",
   "mimetype": "text/x-python",
   "name": "python",
   "nbconvert_exporter": "python",
   "pygments_lexer": "ipython3",
   "version": "3.12.0"
  }
 },
 "nbformat": 4,
 "nbformat_minor": 4
}
